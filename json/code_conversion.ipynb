{
  "nbformat": 4,
  "nbformat_minor": 0,
  "metadata": {
    "colab": {
      "provenance": []
    },
    "kernelspec": {
      "name": "python3",
      "display_name": "Python 3"
    },
    "language_info": {
      "name": "python"
    }
  },
  "cells": [
    {
      "cell_type": "code",
      "execution_count": 2,
      "metadata": {
        "colab": {
          "base_uri": "https://localhost:8080/"
        },
        "id": "uX4W3HSnJjT7",
        "outputId": "dc1e874a-42f1-4f29-ea40-1f56df95ad81"
      },
      "outputs": [
        {
          "output_type": "stream",
          "name": "stdout",
          "text": [
            "Conversion terminée. Le fichier GeoJSON a été enregistré avec succès.\n"
          ]
        }
      ],
      "source": [
        "import pandas as pd\n",
        "import json\n",
        "\n",
        "# Charger les données depuis le fichier CSV\n",
        "data = pd.read_csv('/content/Donnee_final_fr.csv')\n",
        "\n",
        "# Créer une liste pour stocker les features GeoJSON\n",
        "features = []\n",
        "\n",
        "# Parcourir les lignes de données\n",
        "for index, row in data.iterrows():\n",
        "    # Créer une feature GeoJSON pour chaque ligne\n",
        "    feature = {\n",
        "        \"type\": \"Feature\",\n",
        "        \"properties\": {\n",
        "            # Ajouter d'autres propriétés si nécessaire\n",
        "        },\n",
        "        \"geometry\": {\n",
        "            \"type\": \"Point\",\n",
        "            \"coordinates\": [row['Longitude'], row['Latitude']]\n",
        "        }\n",
        "    }\n",
        "    # Ajouter la feature à la liste des features\n",
        "    features.append(feature)\n",
        "\n",
        "# Créer le dictionnaire GeoJSON\n",
        "geojson_data = {\n",
        "    \"type\": \"FeatureCollection\",\n",
        "    \"features\": features\n",
        "}\n",
        "\n",
        "# Enregistrer le GeoJSON dans un fichier\n",
        "with open('output.geojson', 'w') as f:\n",
        "    json.dump(geojson_data, f)\n",
        "\n",
        "print(\"Conversion terminée. Le fichier GeoJSON a été enregistré avec succès.\")\n"
      ]
    }
  ]
}